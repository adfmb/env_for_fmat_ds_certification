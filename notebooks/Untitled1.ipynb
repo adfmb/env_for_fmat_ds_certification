{
 "cells": [
  {
   "cell_type": "code",
   "execution_count": null,
   "id": "b52b555a-a503-430e-9987-8f2fd1cd79f4",
   "metadata": {},
   "outputs": [],
   "source": [
    "print('hola')"
   ]
  },
  {
   "cell_type": "code",
   "execution_count": null,
   "id": "1578a589-fe37-42be-8c0a-e8b670d4821f",
   "metadata": {},
   "outputs": [],
   "source": []
  }
 ],
 "metadata": {
  "kernelspec": {
   "display_name": "Python 3 (ipykernel)",
   "language": "python",
   "name": "python3"
  },
  "language_info": {
   "name": ""
  }
 },
 "nbformat": 4,
 "nbformat_minor": 5
}
